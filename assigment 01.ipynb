{
 "cells": [
  {
   "cell_type": "code",
   "execution_count": 8,
   "id": "665a0922",
   "metadata": {},
   "outputs": [
    {
     "name": "stdout",
     "output_type": "stream",
     "text": [
      "Enter amount used in a week: 100\n",
      "100 liters used in a week\n",
      "400 liters per month\n",
      "1200 for three months\n"
     ]
    }
   ],
   "source": [
    "def main():\n",
    "    a = input(\"Enter amount used in a week: \")\n",
    "    print(a, \"liters used in a week\")\n",
    "    one_mnt = 4\n",
    "    x = int(a) * one_mnt\n",
    "    print(x, \"liters per month\")\n",
    "    three_mnt = 3\n",
    "    y = x * three_mnt\n",
    "    print(y, \"for three months\")\n",
    "main()"
   ]
  },
  {
   "cell_type": "code",
   "execution_count": null,
   "id": "329dc7b5",
   "metadata": {},
   "outputs": [],
   "source": []
  }
 ],
 "metadata": {
  "kernelspec": {
   "display_name": "Python 3 (ipykernel)",
   "language": "python",
   "name": "python3"
  },
  "language_info": {
   "codemirror_mode": {
    "name": "ipython",
    "version": 3
   },
   "file_extension": ".py",
   "mimetype": "text/x-python",
   "name": "python",
   "nbconvert_exporter": "python",
   "pygments_lexer": "ipython3",
   "version": "3.9.12"
  }
 },
 "nbformat": 4,
 "nbformat_minor": 5
}
